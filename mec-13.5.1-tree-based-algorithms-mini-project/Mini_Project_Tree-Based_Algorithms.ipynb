{
 "cells": [
  {
   "cell_type": "markdown",
   "metadata": {},
   "source": [
    "# Mini Project: Tree-Based Algorithms"
   ]
  },
  {
   "cell_type": "markdown",
   "metadata": {},
   "source": [
    "## The \"German Credit\" Dataset"
   ]
  },
  {
   "cell_type": "markdown",
   "metadata": {},
   "source": [
    "### Dataset Details"
   ]
  },
  {
   "cell_type": "markdown",
   "metadata": {},
   "source": [
    "This dataset has two classes (these would be considered labels in Machine Learning terms) to describe the worthiness of a personal loan: \"Good\" or \"Bad\". There are predictors related to attributes, such as: checking account status, duration, credit history, purpose of the loan, amount of the loan, savings accounts or bonds, employment duration, installment rate in percentage of disposable income, personal information, other debtors/guarantors, residence duration, property, age, other installment plans, housing, number of existing credits, job information, number of people being liable to provide maintenance for, telephone, and foreign worker status.\n",
    "\n",
    "Many of these predictors are discrete and have been expanded into several 0/1 indicator variables (a.k.a. they have been one-hot-encoded).\n",
    "\n",
    "This dataset has been kindly provided by Professor Dr. Hans Hofmann of the University of Hamburg, and can also be found on the UCI Machine Learning Repository."
   ]
  },
  {
   "cell_type": "markdown",
   "metadata": {},
   "source": [
    "\n",
    "\n",
    "\n"
   ]
  },
  {
   "cell_type": "markdown",
   "metadata": {},
   "source": [
    "## Decision Trees"
   ]
  },
  {
   "cell_type": "markdown",
   "metadata": {},
   "source": [
    " As we have learned in the previous lectures, Decision Trees as a family of algorithms (irrespective to the particular implementation) are powerful algorithms that can produce models with a predictive accuracy higher than that produced by linear models, such as Linear or Logistic Regression. Primarily, this is due to the fact the DT's can model nonlinear relationships, and also have a number of tuning paramters, that allow for the practicioner to achieve the best possible model. An added bonus is the ability to visualize the trained Decision Tree model, which allows for some insight into how the model has produced the predictions that it has. One caveat here, to keep in mind, is that sometimes, due to the size of the dataset (both in the sense of the number of records, as well as the number of features), the visualization might prove to be very large and complex, increasing the difficulty of interpretation."
   ]
  },
  {
   "cell_type": "markdown",
   "metadata": {},
   "source": [
    "To give you a very good example of how Decision Trees can be visualized and interpreted, we would strongly recommend that, before continuing on with solving the problems in this Mini Project, you take the time to read this fanstastic, detailed and informative blog post: http://explained.ai/decision-tree-viz/index.html"
   ]
  },
  {
   "cell_type": "markdown",
   "metadata": {},
   "source": [
    "## Building Your First Decision Tree Model"
   ]
  },
  {
   "cell_type": "markdown",
   "metadata": {},
   "source": [
    "So, now it's time to jump straight into the heart of the matter. Your first task, is to build a Decision Tree model, using the aforementioned \"German Credit\" dataset, which contains 1,000 records, and 62 columns (one of them presents the labels, and the other 61 present the potential features for the model.)"
   ]
  },
  {
   "cell_type": "markdown",
   "metadata": {},
   "source": [
    "For this task, you will be using the scikit-learn library, which comes already pre-installed with the Anaconda Python distribution. In case you're not using that, you can easily install it using pip."
   ]
  },
  {
   "cell_type": "markdown",
   "metadata": {},
   "source": [
    "Before embarking on creating your first model, we would strongly encourage you to read the short tutorial for Decision Trees in scikit-learn (http://scikit-learn.org/stable/modules/tree.html), and then dive a bit deeper into the documentation of the algorithm itself (http://scikit-learn.org/stable/modules/generated/sklearn.tree.DecisionTreeClassifier.html). "
   ]
  },
  {
   "cell_type": "markdown",
   "metadata": {},
   "source": [
    "Also, since you want to be able to present the results of your model, we suggest you take a look at the tutorial for accuracy metrics for classification models (http://scikit-learn.org/stable/modules/model_evaluation.html#classification-report) as well as the more detailed documentation (http://scikit-learn.org/stable/modules/generated/sklearn.metrics.classification_report.html).\n",
    "\n",
    "Finally, an *amazing* resource that explains the various classification model accuracy metrics, as well as the relationships between them, can be found on Wikipedia: https://en.wikipedia.org/wiki/Confusion_matrix"
   ]
  },
  {
   "cell_type": "markdown",
   "metadata": {},
   "source": [
    "(Note: as you've already learned in the Logistic Regression mini project, a standard practice in Machine Learning for achieving the best possible result when training a model is to use hyperparameter tuning, through Grid Search and k-fold Cross Validation. We strongly encourage you to use it here as well, not just because it's standard practice, but also becuase it's not going to be computationally to intensive, due to the size of the dataset that you're working with. Our suggestion here is that you split the data into 70% training, and 30% testing. Then, do the hyperparameter tuning and Cross Validation on the training set, and afterwards to a final test on the testing set.)"
   ]
  },
  {
   "cell_type": "markdown",
   "metadata": {},
   "source": [
    "### Now we pass the torch onto you! You can start building your first Decision Tree model! :)"
   ]
  },
  {
   "cell_type": "code",
   "execution_count": 1,
   "metadata": {},
   "outputs": [],
   "source": [
    "import numpy as np\n",
    "import pandas as pd\n",
    "from sklearn.tree import DecisionTreeClassifier\n",
    "from sklearn.metrics import classification_report, confusion_matrix,\\\n",
    "    f1_score, accuracy_score, roc_auc_score, roc_curve\n",
    "from sklearn.preprocessing import LabelBinarizer\n",
    "from sklearn.model_selection import train_test_split\n",
    "from sklearn.model_selection import GridSearchCV"
   ]
  },
  {
   "cell_type": "code",
   "execution_count": 2,
   "metadata": {},
   "outputs": [
    {
     "data": {
      "text/plain": [
       "Index(['Duration', 'Amount', 'InstallmentRatePercentage', 'ResidenceDuration',\n",
       "       'Age', 'NumberExistingCredits', 'NumberPeopleMaintenance', 'Telephone',\n",
       "       'ForeignWorker', 'Class', 'CheckingAccountStatus.lt.0',\n",
       "       'CheckingAccountStatus.0.to.200', 'CheckingAccountStatus.gt.200',\n",
       "       'CheckingAccountStatus.none', 'CreditHistory.NoCredit.AllPaid',\n",
       "       'CreditHistory.ThisBank.AllPaid', 'CreditHistory.PaidDuly',\n",
       "       'CreditHistory.Delay', 'CreditHistory.Critical', 'Purpose.NewCar',\n",
       "       'Purpose.UsedCar', 'Purpose.Furniture.Equipment',\n",
       "       'Purpose.Radio.Television', 'Purpose.DomesticAppliance',\n",
       "       'Purpose.Repairs', 'Purpose.Education', 'Purpose.Vacation',\n",
       "       'Purpose.Retraining', 'Purpose.Business', 'Purpose.Other',\n",
       "       'SavingsAccountBonds.lt.100', 'SavingsAccountBonds.100.to.500',\n",
       "       'SavingsAccountBonds.500.to.1000', 'SavingsAccountBonds.gt.1000',\n",
       "       'SavingsAccountBonds.Unknown', 'EmploymentDuration.lt.1',\n",
       "       'EmploymentDuration.1.to.4', 'EmploymentDuration.4.to.7',\n",
       "       'EmploymentDuration.gt.7', 'EmploymentDuration.Unemployed',\n",
       "       'Personal.Male.Divorced.Seperated', 'Personal.Female.NotSingle',\n",
       "       'Personal.Male.Single', 'Personal.Male.Married.Widowed',\n",
       "       'Personal.Female.Single', 'OtherDebtorsGuarantors.None',\n",
       "       'OtherDebtorsGuarantors.CoApplicant',\n",
       "       'OtherDebtorsGuarantors.Guarantor', 'Property.RealEstate',\n",
       "       'Property.Insurance', 'Property.CarOther', 'Property.Unknown',\n",
       "       'OtherInstallmentPlans.Bank', 'OtherInstallmentPlans.Stores',\n",
       "       'OtherInstallmentPlans.None', 'Housing.Rent', 'Housing.Own',\n",
       "       'Housing.ForFree', 'Job.UnemployedUnskilled', 'Job.UnskilledResident',\n",
       "       'Job.SkilledEmployee', 'Job.Management.SelfEmp.HighlyQualified'],\n",
       "      dtype='object')"
      ]
     },
     "execution_count": 2,
     "metadata": {},
     "output_type": "execute_result"
    }
   ],
   "source": [
    "# Import data\n",
    "DataRaw = pd.read_csv(r'C:\\UCSD_ML\\mec-mini-projects\\mec-13.5.1-tree-based-algorithms-mini-project\\GermanCredit.csv')\n",
    "DataRaw.columns"
   ]
  },
  {
   "cell_type": "code",
   "execution_count": 3,
   "metadata": {},
   "outputs": [],
   "source": [
    "Features = list(DataRaw.columns)\n",
    "Features.remove('Class')\n",
    "Target = 'Class'"
   ]
  },
  {
   "cell_type": "code",
   "execution_count": 4,
   "metadata": {},
   "outputs": [],
   "source": [
    "X = DataRaw[Features]\n",
    "y = pd.DataFrame(DataRaw[Target])\n",
    "\n",
    "lb = LabelBinarizer()\n",
    "y = lb.fit_transform(y) \n",
    "X_train, X_test, y_train, y_test = train_test_split(X,y,\\\n",
    "        test_size=0.3, random_state=100)"
   ]
  },
  {
   "cell_type": "code",
   "execution_count": 5,
   "metadata": {},
   "outputs": [
    {
     "name": "stdout",
     "output_type": "stream",
     "text": [
      "{'criterion': 'entropy', 'max_depth': 3, 'splitter': 'best'}\n"
     ]
    }
   ],
   "source": [
    "# Cross validation\n",
    "param_grid = dict(criterion = ['gini','entropy'],\\\n",
    "                  splitter = ['best', 'random'],\\\n",
    "                  max_depth = np.arange(2,7),\\\n",
    "                  \n",
    "                )\n",
    "cv_size = int(np.ceil(y_train.shape[0]/100))\n",
    "clf_M = DecisionTreeClassifier(random_state = 100)\n",
    "clf = GridSearchCV(estimator=clf_M, param_grid=param_grid,\\\n",
    "                   cv = cv_size, n_jobs=10)\n",
    "clf = clf.fit(X_train, y_train)\n",
    "print(clf.best_params_)"
   ]
  },
  {
   "cell_type": "code",
   "execution_count": 6,
   "metadata": {},
   "outputs": [
    {
     "name": "stdout",
     "output_type": "stream",
     "text": [
      "              precision    recall  f1-score   support\n",
      "\n",
      "           0       0.44      0.40      0.42        81\n",
      "           1       0.79      0.82      0.80       219\n",
      "\n",
      "    accuracy                           0.70       300\n",
      "   macro avg       0.61      0.61      0.61       300\n",
      "weighted avg       0.69      0.70      0.70       300\n",
      "\n",
      "0.8008948545861297\n",
      "0.7033333333333334\n",
      "[[ 32  49]\n",
      " [ 40 179]]\n"
     ]
    }
   ],
   "source": [
    "# predict in test sample and print result\n",
    "y_test_pred = clf.predict(X_test)\n",
    "print(classification_report(y_test, y_test_pred))\n",
    "print(f1_score(y_test, y_test_pred))\n",
    "print(accuracy_score(y_test, y_test_pred))\n",
    "print(confusion_matrix(y_test, y_test_pred))"
   ]
  },
  {
   "cell_type": "markdown",
   "metadata": {},
   "source": [
    "### After you've built the best model you can, now it's time to visualize it!"
   ]
  },
  {
   "cell_type": "markdown",
   "metadata": {},
   "source": [
    "Rememeber that amazing blog post from a few paragraphs ago, that demonstrated how to visualize and interpret the results of your Decision Tree model. We've seen that this can perform very well, but let's see how it does on the \"German Credit\" dataset that we're working on, due to it being a bit larger than the one used by the blog authors."
   ]
  },
  {
   "cell_type": "markdown",
   "metadata": {},
   "source": [
    "First, we're going to need to install their package. If you're using Anaconda, this can be done easily by running:"
   ]
  },
  {
   "cell_type": "code",
   "execution_count": 7,
   "metadata": {},
   "outputs": [],
   "source": [
    "#! pip install dtreeviz\n",
    "import dtreeviz"
   ]
  },
  {
   "cell_type": "markdown",
   "metadata": {},
   "source": [
    "If for any reason this way of installing doesn't work for you straight out of the box, please refer to the more detailed documentation here: https://github.com/parrt/dtreeviz"
   ]
  },
  {
   "cell_type": "markdown",
   "metadata": {},
   "source": [
    "Now you're ready to visualize your Decision Tree model! Please feel free to use the blog post for guidance and inspiration!"
   ]
  },
  {
   "cell_type": "code",
   "execution_count": 10,
   "metadata": {},
   "outputs": [
    {
     "ename": "IndexError",
     "evalue": "too many indices for array: array is 1-dimensional, but 2 were indexed",
     "output_type": "error",
     "traceback": [
      "\u001b[1;31m---------------------------------------------------------------------------\u001b[0m",
      "\u001b[1;31mIndexError\u001b[0m                                Traceback (most recent call last)",
      "\u001b[1;32m<ipython-input-10-f5ba542683be>\u001b[0m in \u001b[0;36m<module>\u001b[1;34m\u001b[0m\n\u001b[0;32m      1\u001b[0m \u001b[0mregr\u001b[0m\u001b[1;33m=\u001b[0m \u001b[0mDecisionTreeClassifier\u001b[0m\u001b[1;33m(\u001b[0m\u001b[0mmax_depth\u001b[0m\u001b[1;33m=\u001b[0m\u001b[1;36m3\u001b[0m\u001b[1;33m,\u001b[0m \u001b[0mcriterion\u001b[0m \u001b[1;33m=\u001b[0m \u001b[1;34m'entropy'\u001b[0m\u001b[1;33m,\u001b[0m \u001b[0msplitter\u001b[0m \u001b[1;33m=\u001b[0m \u001b[1;34m'best'\u001b[0m\u001b[1;33m)\u001b[0m\u001b[1;33m\u001b[0m\u001b[1;33m\u001b[0m\u001b[0m\n\u001b[0;32m      2\u001b[0m \u001b[0mregr\u001b[0m\u001b[1;33m.\u001b[0m\u001b[0mfit\u001b[0m\u001b[1;33m(\u001b[0m\u001b[0mX\u001b[0m\u001b[1;33m,\u001b[0m \u001b[0my\u001b[0m\u001b[1;33m)\u001b[0m\u001b[1;33m\u001b[0m\u001b[1;33m\u001b[0m\u001b[0m\n\u001b[1;32m----> 3\u001b[1;33m \u001b[0mviz\u001b[0m \u001b[1;33m=\u001b[0m \u001b[0mdtreeviz\u001b[0m\u001b[1;33m.\u001b[0m\u001b[0mtrees\u001b[0m\u001b[1;33m.\u001b[0m\u001b[0mdtreeviz\u001b[0m\u001b[1;33m(\u001b[0m\u001b[0mregr\u001b[0m\u001b[1;33m,\u001b[0m \u001b[0mX\u001b[0m\u001b[1;33m,\u001b[0m \u001b[0my\u001b[0m\u001b[1;33m,\u001b[0m \u001b[0mscale\u001b[0m\u001b[1;33m=\u001b[0m\u001b[1;36m1.5\u001b[0m\u001b[1;33m)\u001b[0m\u001b[1;33m\u001b[0m\u001b[1;33m\u001b[0m\u001b[0m\n\u001b[0m\u001b[0;32m      4\u001b[0m \u001b[0mviz\u001b[0m\u001b[1;33m\u001b[0m\u001b[1;33m\u001b[0m\u001b[0m\n",
      "\u001b[1;32m~\\Anaconda3\\lib\\site-packages\\dtreeviz\\trees.py\u001b[0m in \u001b[0;36mdtreeviz\u001b[1;34m(tree_model, x_data, y_data, feature_names, target_name, class_names, tree_index, precision, orientation, instance_orientation, show_root_edge_labels, show_node_labels, show_just_path, fancy, histtype, highlight_path, X, max_X_features_LR, max_X_features_TD, depth_range_to_display, label_fontsize, ticks_fontsize, fontname, title, title_fontsize, colors, scale)\u001b[0m\n\u001b[0;32m    791\u001b[0m     \u001b[1;32mif\u001b[0m \u001b[0mshadow_tree\u001b[0m\u001b[1;33m.\u001b[0m\u001b[0mis_classifier\u001b[0m\u001b[1;33m(\u001b[0m\u001b[1;33m)\u001b[0m\u001b[1;33m:\u001b[0m\u001b[1;33m\u001b[0m\u001b[1;33m\u001b[0m\u001b[0m\n\u001b[0;32m    792\u001b[0m         \u001b[0mnbins\u001b[0m \u001b[1;33m=\u001b[0m \u001b[0mget_num_bins\u001b[0m\u001b[1;33m(\u001b[0m\u001b[0mhisttype\u001b[0m\u001b[1;33m,\u001b[0m \u001b[0mn_classes\u001b[0m\u001b[1;33m)\u001b[0m\u001b[1;33m\u001b[0m\u001b[1;33m\u001b[0m\u001b[0m\n\u001b[1;32m--> 793\u001b[1;33m         \u001b[0mnode_heights\u001b[0m \u001b[1;33m=\u001b[0m \u001b[0mshadow_tree\u001b[0m\u001b[1;33m.\u001b[0m\u001b[0mget_split_node_heights\u001b[0m\u001b[1;33m(\u001b[0m\u001b[0mX_data\u001b[0m\u001b[1;33m,\u001b[0m \u001b[0my_data\u001b[0m\u001b[1;33m,\u001b[0m \u001b[0mnbins\u001b[0m\u001b[1;33m=\u001b[0m\u001b[0mnbins\u001b[0m\u001b[1;33m)\u001b[0m\u001b[1;33m\u001b[0m\u001b[1;33m\u001b[0m\u001b[0m\n\u001b[0m\u001b[0;32m    794\u001b[0m \u001b[1;33m\u001b[0m\u001b[0m\n\u001b[0;32m    795\u001b[0m     \u001b[0minternal\u001b[0m \u001b[1;33m=\u001b[0m \u001b[1;33m[\u001b[0m\u001b[1;33m]\u001b[0m\u001b[1;33m\u001b[0m\u001b[1;33m\u001b[0m\u001b[0m\n",
      "\u001b[1;32m~\\Anaconda3\\lib\\site-packages\\dtreeviz\\models\\shadow_decision_tree.py\u001b[0m in \u001b[0;36mget_split_node_heights\u001b[1;34m(self, X_train, y_train, nbins)\u001b[0m\n\u001b[0;32m    284\u001b[0m             \u001b[1;31m# print(f\"\\tlen(bins)={len(bins):2d} bins={bins}\")\u001b[0m\u001b[1;33m\u001b[0m\u001b[1;33m\u001b[0m\u001b[1;33m\u001b[0m\u001b[0m\n\u001b[0;32m    285\u001b[0m             \u001b[0mX\u001b[0m\u001b[1;33m,\u001b[0m \u001b[0my\u001b[0m \u001b[1;33m=\u001b[0m \u001b[0mX_feature\u001b[0m\u001b[1;33m[\u001b[0m\u001b[0mnode\u001b[0m\u001b[1;33m.\u001b[0m\u001b[0msamples\u001b[0m\u001b[1;33m(\u001b[0m\u001b[1;33m)\u001b[0m\u001b[1;33m]\u001b[0m\u001b[1;33m,\u001b[0m \u001b[0my_train\u001b[0m\u001b[1;33m[\u001b[0m\u001b[0mnode\u001b[0m\u001b[1;33m.\u001b[0m\u001b[0msamples\u001b[0m\u001b[1;33m(\u001b[0m\u001b[1;33m)\u001b[0m\u001b[1;33m]\u001b[0m\u001b[1;33m\u001b[0m\u001b[1;33m\u001b[0m\u001b[0m\n\u001b[1;32m--> 286\u001b[1;33m             \u001b[0mX_hist\u001b[0m \u001b[1;33m=\u001b[0m \u001b[1;33m[\u001b[0m\u001b[0mX\u001b[0m\u001b[1;33m[\u001b[0m\u001b[0my\u001b[0m \u001b[1;33m==\u001b[0m \u001b[0mcl\u001b[0m\u001b[1;33m]\u001b[0m \u001b[1;32mfor\u001b[0m \u001b[0mcl\u001b[0m \u001b[1;32min\u001b[0m \u001b[0mclass_values\u001b[0m\u001b[1;33m]\u001b[0m\u001b[1;33m\u001b[0m\u001b[1;33m\u001b[0m\u001b[0m\n\u001b[0m\u001b[0;32m    287\u001b[0m             \u001b[0mheight_of_bins\u001b[0m \u001b[1;33m=\u001b[0m \u001b[0mnp\u001b[0m\u001b[1;33m.\u001b[0m\u001b[0mzeros\u001b[0m\u001b[1;33m(\u001b[0m\u001b[0mnbins\u001b[0m\u001b[1;33m)\u001b[0m\u001b[1;33m\u001b[0m\u001b[1;33m\u001b[0m\u001b[0m\n\u001b[0;32m    288\u001b[0m             \u001b[1;32mfor\u001b[0m \u001b[0mi\u001b[0m\u001b[1;33m,\u001b[0m \u001b[0m_\u001b[0m \u001b[1;32min\u001b[0m \u001b[0menumerate\u001b[0m\u001b[1;33m(\u001b[0m\u001b[0mclass_values\u001b[0m\u001b[1;33m)\u001b[0m\u001b[1;33m:\u001b[0m\u001b[1;33m\u001b[0m\u001b[1;33m\u001b[0m\u001b[0m\n",
      "\u001b[1;32m~\\Anaconda3\\lib\\site-packages\\dtreeviz\\models\\shadow_decision_tree.py\u001b[0m in \u001b[0;36m<listcomp>\u001b[1;34m(.0)\u001b[0m\n\u001b[0;32m    284\u001b[0m             \u001b[1;31m# print(f\"\\tlen(bins)={len(bins):2d} bins={bins}\")\u001b[0m\u001b[1;33m\u001b[0m\u001b[1;33m\u001b[0m\u001b[1;33m\u001b[0m\u001b[0m\n\u001b[0;32m    285\u001b[0m             \u001b[0mX\u001b[0m\u001b[1;33m,\u001b[0m \u001b[0my\u001b[0m \u001b[1;33m=\u001b[0m \u001b[0mX_feature\u001b[0m\u001b[1;33m[\u001b[0m\u001b[0mnode\u001b[0m\u001b[1;33m.\u001b[0m\u001b[0msamples\u001b[0m\u001b[1;33m(\u001b[0m\u001b[1;33m)\u001b[0m\u001b[1;33m]\u001b[0m\u001b[1;33m,\u001b[0m \u001b[0my_train\u001b[0m\u001b[1;33m[\u001b[0m\u001b[0mnode\u001b[0m\u001b[1;33m.\u001b[0m\u001b[0msamples\u001b[0m\u001b[1;33m(\u001b[0m\u001b[1;33m)\u001b[0m\u001b[1;33m]\u001b[0m\u001b[1;33m\u001b[0m\u001b[1;33m\u001b[0m\u001b[0m\n\u001b[1;32m--> 286\u001b[1;33m             \u001b[0mX_hist\u001b[0m \u001b[1;33m=\u001b[0m \u001b[1;33m[\u001b[0m\u001b[0mX\u001b[0m\u001b[1;33m[\u001b[0m\u001b[0my\u001b[0m \u001b[1;33m==\u001b[0m \u001b[0mcl\u001b[0m\u001b[1;33m]\u001b[0m \u001b[1;32mfor\u001b[0m \u001b[0mcl\u001b[0m \u001b[1;32min\u001b[0m \u001b[0mclass_values\u001b[0m\u001b[1;33m]\u001b[0m\u001b[1;33m\u001b[0m\u001b[1;33m\u001b[0m\u001b[0m\n\u001b[0m\u001b[0;32m    287\u001b[0m             \u001b[0mheight_of_bins\u001b[0m \u001b[1;33m=\u001b[0m \u001b[0mnp\u001b[0m\u001b[1;33m.\u001b[0m\u001b[0mzeros\u001b[0m\u001b[1;33m(\u001b[0m\u001b[0mnbins\u001b[0m\u001b[1;33m)\u001b[0m\u001b[1;33m\u001b[0m\u001b[1;33m\u001b[0m\u001b[0m\n\u001b[0;32m    288\u001b[0m             \u001b[1;32mfor\u001b[0m \u001b[0mi\u001b[0m\u001b[1;33m,\u001b[0m \u001b[0m_\u001b[0m \u001b[1;32min\u001b[0m \u001b[0menumerate\u001b[0m\u001b[1;33m(\u001b[0m\u001b[0mclass_values\u001b[0m\u001b[1;33m)\u001b[0m\u001b[1;33m:\u001b[0m\u001b[1;33m\u001b[0m\u001b[1;33m\u001b[0m\u001b[0m\n",
      "\u001b[1;31mIndexError\u001b[0m: too many indices for array: array is 1-dimensional, but 2 were indexed"
     ]
    }
   ],
   "source": [
    "regr= DecisionTreeClassifier(max_depth=3, criterion = 'entropy', splitter = 'best')  \n",
    "regr.fit(X, y)\n",
    "viz = dtreeviz.trees.dtreeviz(regr, X, y, scale=1.5)\n",
    "viz"
   ]
  },
  {
   "cell_type": "markdown",
   "metadata": {},
   "source": [
    "## Random Forests"
   ]
  },
  {
   "cell_type": "markdown",
   "metadata": {},
   "source": [
    "As discussed in the lecture videos, Decision Tree algorithms also have certain undesireable properties. Mainly the have low bias, which is good, but tend to have high variance - which is *not* so good (more about this problem here: https://en.wikipedia.org/wiki/Bias%E2%80%93variance_tradeoff)."
   ]
  },
  {
   "cell_type": "markdown",
   "metadata": {},
   "source": [
    "Noticing these problems, the late Professor Leo Breiman, in 2001, developed the Random Forests algorithm, which mitigates these problems, while at the same time providing even higher predictive accuracy than the majority of Decision Tree algorithm implementations. While the curriculum contains two excellent lectures on Random Forests, if you're interested, you can dive into the original paper here: https://link.springer.com/content/pdf/10.1023%2FA%3A1010933404324.pdf."
   ]
  },
  {
   "cell_type": "markdown",
   "metadata": {},
   "source": [
    "In the next part of this assignment, your are going to use the same \"German Credit\" dataset to train, tune, and measure the performance of a Random Forests model. You will also see certain functionalities that this model, even though it's a bit of a \"black box\", provides for some degree of interpretability."
   ]
  },
  {
   "cell_type": "markdown",
   "metadata": {},
   "source": [
    "First, let's build a Random Forests model, using the same best practices that you've used for your Decision Trees model. You can reuse the things you've already imported there, so no need to do any re-imports, new train/test splits, or loading up the data again."
   ]
  },
  {
   "cell_type": "code",
   "execution_count": 11,
   "metadata": {},
   "outputs": [],
   "source": [
    "from sklearn.ensemble import RandomForestClassifier"
   ]
  },
  {
   "cell_type": "code",
   "execution_count": 12,
   "metadata": {},
   "outputs": [
    {
     "name": "stdout",
     "output_type": "stream",
     "text": [
      "              precision    recall  f1-score   support\n",
      "\n",
      "           0       0.80      0.05      0.09        81\n",
      "           1       0.74      1.00      0.85       219\n",
      "\n",
      "    accuracy                           0.74       300\n",
      "   macro avg       0.77      0.52      0.47       300\n",
      "weighted avg       0.76      0.74      0.64       300\n",
      "\n",
      "0.8482490272373541\n",
      "0.74\n",
      "[[  4  77]\n",
      " [  1 218]]\n"
     ]
    },
    {
     "name": "stderr",
     "output_type": "stream",
     "text": [
      "<ipython-input-12-7a3a8a5e175b>:3: DataConversionWarning: A column-vector y was passed when a 1d array was expected. Please change the shape of y to (n_samples,), for example using ravel().\n",
      "  RFClf.fit(X_train, y_train)\n"
     ]
    }
   ],
   "source": [
    "# Your code here! :)\n",
    "RFClf = RandomForestClassifier(max_depth=3, criterion='entropy')\n",
    "RFClf.fit(X_train, y_train)\n",
    "RFClf.get_params()\n",
    "\n",
    "y_test_pred = RFClf.predict(X_test)\n",
    "print(classification_report(y_test, y_test_pred))\n",
    "print(f1_score(y_test, y_test_pred))\n",
    "print(accuracy_score(y_test, y_test_pred))\n",
    "print(confusion_matrix(y_test, y_test_pred))"
   ]
  },
  {
   "cell_type": "markdown",
   "metadata": {},
   "source": [
    "As mentioned, there are certain ways to \"peek\" into a model created by the Random Forests algorithm. The first, and most popular one, is the Feature Importance calculation functionality. This allows the ML practitioner to see an ordering of the importance of the features that have contributed the most to the predictive accuracy of the model. \n",
    "\n",
    "You can see how to use this in the scikit-learn documentation (http://scikit-learn.org/stable/modules/generated/sklearn.ensemble.RandomForestClassifier.html#sklearn.ensemble.RandomForestClassifier.feature_importances_). Now, if you tried this, you would just get an ordered table of not directly interpretable numeric values. Thus, it's much more useful to show the feature importance in a visual way. You can see an example of how that's done here: http://scikit-learn.org/stable/auto_examples/ensemble/plot_forest_importances.html#sphx-glr-auto-examples-ensemble-plot-forest-importances-py\n",
    "\n",
    "Now you try! Let's visualize the importance of features from your Random Forests model!"
   ]
  },
  {
   "cell_type": "code",
   "execution_count": 10,
   "metadata": {},
   "outputs": [],
   "source": [
    "# Your code here"
   ]
  },
  {
   "cell_type": "markdown",
   "metadata": {},
   "source": [
    "A final method for gaining some insight into the inner working of your Random Forests models is a so-called Partial Dependence Plot. The Partial Dependence Plot (PDP or PD plot) shows the marginal effect of a feature on the predicted outcome of a previously fit model. The prediction function is fixed at a few values of the chosen features and averaged over the other features. A partial dependence plot can show if the relationship between the target and a feature is linear, monotonic or more complex. \n",
    "\n",
    "In scikit-learn, PDPs are implemented and available for certain algorithms, but at this point (version 0.20.0) they are not yet implemented for Random Forests. Thankfully, there is an add-on package called **PDPbox** (https://pdpbox.readthedocs.io/en/latest/) which adds this functionality to Random Forests. The package is easy to install through pip."
   ]
  },
  {
   "cell_type": "code",
   "execution_count": 13,
   "metadata": {},
   "outputs": [
    {
     "name": "stdout",
     "output_type": "stream",
     "text": [
      "Collecting pdpbox\n",
      "  Downloading PDPbox-0.2.1.tar.gz (34.0 MB)\n",
      "Requirement already satisfied: pandas in c:\\users\\mingzhu\\anaconda3\\lib\\site-packages (from pdpbox) (1.3.1)\n",
      "Requirement already satisfied: numpy in c:\\users\\mingzhu\\anaconda3\\lib\\site-packages (from pdpbox) (1.21.1)\n",
      "Requirement already satisfied: scipy in c:\\users\\mingzhu\\anaconda3\\lib\\site-packages (from pdpbox) (1.7.1)\n",
      "Requirement already satisfied: joblib in c:\\users\\mingzhu\\anaconda3\\lib\\site-packages (from pdpbox) (1.0.1)\n",
      "Requirement already satisfied: psutil in c:\\users\\mingzhu\\anaconda3\\lib\\site-packages (from pdpbox) (5.8.0)\n",
      "Collecting matplotlib==3.1.1\n",
      "  Downloading matplotlib-3.1.1.tar.gz (37.8 MB)\n"
     ]
    },
    {
     "name": "stderr",
     "output_type": "stream",
     "text": [
      "  ERROR: Command errored out with exit status 1:\n",
      "   command: 'C:\\Users\\MingZhu\\Anaconda3\\python.exe' -u -c 'import io, os, sys, setuptools, tokenize; sys.argv[0] = '\"'\"'C:\\\\Users\\\\MingZhu\\\\AppData\\\\Local\\\\Temp\\\\pip-install-5l74l7pw\\\\matplotlib_591294cfd36c4427ad8091c5e16c8dd3\\\\setup.py'\"'\"'; __file__='\"'\"'C:\\\\Users\\\\MingZhu\\\\AppData\\\\Local\\\\Temp\\\\pip-install-5l74l7pw\\\\matplotlib_591294cfd36c4427ad8091c5e16c8dd3\\\\setup.py'\"'\"';f = getattr(tokenize, '\"'\"'open'\"'\"', open)(__file__) if os.path.exists(__file__) else io.StringIO('\"'\"'from setuptools import setup; setup()'\"'\"');code = f.read().replace('\"'\"'\\r\\n'\"'\"', '\"'\"'\\n'\"'\"');f.close();exec(compile(code, __file__, '\"'\"'exec'\"'\"'))' bdist_wheel -d 'C:\\Users\\MingZhu\\AppData\\Local\\Temp\\pip-wheel-j3ygz4k0'\n",
      "       cwd: C:\\Users\\MingZhu\\AppData\\Local\\Temp\\pip-install-5l74l7pw\\matplotlib_591294cfd36c4427ad8091c5e16c8dd3\\\n",
      "  Complete output (538 lines):\n",
      "  ================================================================================\n",
      "  Edit setup.cfg to change the build options\n",
      "  \n",
      "  BUILDING MATPLOTLIB\n",
      "    matplotlib: yes [3.1.1]\n",
      "        python: yes [3.8.5 (default, Sep  3 2020, 21:29:08) [MSC v.1916 64 bit\n",
      "                    (AMD64)]]\n",
      "      platform: yes [win32]\n",
      "  \n",
      "  OPTIONAL SUBPACKAGES\n",
      "   sample_data: yes [installing]\n",
      "         tests: no  [skipping due to configuration]\n",
      "  \n",
      "  OPTIONAL BACKEND EXTENSIONS\n",
      "           agg: yes [installing]\n",
      "         tkagg: yes [installing; run-time loading from Python Tcl/Tk]\n",
      "        macosx: no  [Mac OS-X only]\n",
      "  \n",
      "  OPTIONAL PACKAGE DATA\n",
      "          dlls: no  [skipping due to configuration]\n",
      "  \n",
      "  running bdist_wheel\n",
      "  running build\n",
      "  running build_py\n",
      "  creating build\n",
      "  creating build\\lib.win-amd64-3.8\n",
      "  copying lib\\pylab.py -> build\\lib.win-amd64-3.8\n",
      "  creating build\\lib.win-amd64-3.8\\matplotlib\n",
      "  copying lib\\matplotlib\\afm.py -> build\\lib.win-amd64-3.8\\matplotlib\n",
      "  copying lib\\matplotlib\\animation.py -> build\\lib.win-amd64-3.8\\matplotlib\n",
      "  copying lib\\matplotlib\\artist.py -> build\\lib.win-amd64-3.8\\matplotlib\n",
      "  copying lib\\matplotlib\\axis.py -> build\\lib.win-amd64-3.8\\matplotlib\n",
      "  copying lib\\matplotlib\\backend_bases.py -> build\\lib.win-amd64-3.8\\matplotlib\n",
      "  copying lib\\matplotlib\\backend_managers.py -> build\\lib.win-amd64-3.8\\matplotlib\n",
      "  copying lib\\matplotlib\\backend_tools.py -> build\\lib.win-amd64-3.8\\matplotlib\n",
      "  copying lib\\matplotlib\\bezier.py -> build\\lib.win-amd64-3.8\\matplotlib\n",
      "  copying lib\\matplotlib\\blocking_input.py -> build\\lib.win-amd64-3.8\\matplotlib\n",
      "  copying lib\\matplotlib\\category.py -> build\\lib.win-amd64-3.8\\matplotlib\n",
      "  copying lib\\matplotlib\\cm.py -> build\\lib.win-amd64-3.8\\matplotlib\n",
      "  copying lib\\matplotlib\\collections.py -> build\\lib.win-amd64-3.8\\matplotlib\n",
      "  copying lib\\matplotlib\\colorbar.py -> build\\lib.win-amd64-3.8\\matplotlib\n",
      "  copying lib\\matplotlib\\colors.py -> build\\lib.win-amd64-3.8\\matplotlib\n",
      "  copying lib\\matplotlib\\container.py -> build\\lib.win-amd64-3.8\\matplotlib\n",
      "  copying lib\\matplotlib\\contour.py -> build\\lib.win-amd64-3.8\\matplotlib\n",
      "  copying lib\\matplotlib\\dates.py -> build\\lib.win-amd64-3.8\\matplotlib\n",
      "  copying lib\\matplotlib\\docstring.py -> build\\lib.win-amd64-3.8\\matplotlib\n",
      "  copying lib\\matplotlib\\dviread.py -> build\\lib.win-amd64-3.8\\matplotlib\n",
      "  copying lib\\matplotlib\\figure.py -> build\\lib.win-amd64-3.8\\matplotlib\n",
      "  copying lib\\matplotlib\\fontconfig_pattern.py -> build\\lib.win-amd64-3.8\\matplotlib\n",
      "  copying lib\\matplotlib\\font_manager.py -> build\\lib.win-amd64-3.8\\matplotlib\n",
      "  copying lib\\matplotlib\\gridspec.py -> build\\lib.win-amd64-3.8\\matplotlib\n",
      "  copying lib\\matplotlib\\hatch.py -> build\\lib.win-amd64-3.8\\matplotlib"
     ]
    },
    {
     "name": "stdout",
     "output_type": "stream",
     "text": [
      "Requirement already satisfied: sklearn in c:\\users\\mingzhu\\anaconda3\\lib\\site-packages (from pdpbox) (0.0)\n",
      "Requirement already satisfied: cycler>=0.10 in c:\\users\\mingzhu\\anaconda3\\lib\\site-packages (from matplotlib==3.1.1->pdpbox) (0.10.0)\n",
      "Requirement already satisfied: kiwisolver>=1.0.1 in c:\\users\\mingzhu\\anaconda3\\lib\\site-packages (from matplotlib==3.1.1->pdpbox) (1.3.1)\n",
      "Requirement already satisfied: pyparsing!=2.0.4,!=2.1.2,!=2.1.6,>=2.0.1 in c:\\users\\mingzhu\\anaconda3\\lib\\site-packages (from matplotlib==3.1.1->pdpbox) (2.4.7)\n",
      "Requirement already satisfied: python-dateutil>=2.1 in c:\\users\\mingzhu\\anaconda3\\lib\\site-packages (from matplotlib==3.1.1->pdpbox) (2.8.1)\n",
      "Requirement already satisfied: six in c:\\users\\mingzhu\\anaconda3\\lib\\site-packages (from cycler>=0.10->matplotlib==3.1.1->pdpbox) (1.16.0)\n",
      "Requirement already satisfied: pytz>=2017.3 in c:\\users\\mingzhu\\anaconda3\\lib\\site-packages (from pandas->pdpbox) (2021.1)\n",
      "Requirement already satisfied: scikit-learn in c:\\users\\mingzhu\\anaconda3\\lib\\site-packages (from sklearn->pdpbox) (0.24.2)\n",
      "Requirement already satisfied: threadpoolctl>=2.0.0 in c:\\users\\mingzhu\\anaconda3\\lib\\site-packages (from scikit-learn->sklearn->pdpbox) (2.2.0)\n",
      "Building wheels for collected packages: pdpbox, matplotlib\n",
      "  Building wheel for pdpbox (setup.py): started\n",
      "  Building wheel for pdpbox (setup.py): finished with status 'done'\n",
      "  Created wheel for pdpbox: filename=PDPbox-0.2.1-py3-none-any.whl size=35758240 sha256=d838007d9264a72e0ac95a7e66da6141002c8c320b5a888ba3787335e0ee304e\n",
      "  Stored in directory: c:\\users\\mingzhu\\appdata\\local\\pip\\cache\\wheels\\35\\fb\\ef\\a08dd2a1611435285fa3f9d9104bf554f10c2eb7293b526ccb\n",
      "  Building wheel for matplotlib (setup.py): started\n",
      "  Building wheel for matplotlib (setup.py): still running...\n",
      "  Building wheel for matplotlib (setup.py): finished with status 'error'\n",
      "  Running setup.py clean for matplotlib\n",
      "Successfully built pdpbox\n",
      "Failed to build matplotlib\n",
      "Installing collected packages: matplotlib, pdpbox\n",
      "  Attempting uninstall: matplotlib\n",
      "    Found existing installation: matplotlib 3.4.3\n",
      "    Uninstalling matplotlib-3.4.3:\n",
      "      Successfully uninstalled matplotlib-3.4.3\n",
      "    Running setup.py install for matplotlib: started\n",
      "    Running setup.py install for matplotlib: finished with status 'error'\n",
      "  Rolling back uninstall of matplotlib\n",
      "  Moving to c:\\users\\mingzhu\\anaconda3\\lib\\site-packages\\__pycache__\\pylab.cpython-38.pyc\n",
      "   from C:\\Users\\MingZhu\\AppData\\Local\\Temp\\pip-uninstall-1v7s3vp4\\pylab.cpython-38.pyc\n",
      "  Moving to c:\\users\\mingzhu\\anaconda3\\lib\\site-packages\\matplotlib-3.4.3-py3.8-nspkg.pth\n",
      "   from C:\\Users\\MingZhu\\AppData\\Local\\Temp\\pip-uninstall-zsbb4fjq\\matplotlib-3.4.3-py3.8-nspkg.pth\n",
      "  Moving to c:\\users\\mingzhu\\anaconda3\\lib\\site-packages\\matplotlib-3.4.3.dist-info\\\n",
      "   from C:\\Users\\MingZhu\\Anaconda3\\Lib\\site-packages\\~atplotlib-3.4.3.dist-info\n",
      "  Moving to c:\\users\\mingzhu\\anaconda3\\lib\\site-packages\\matplotlib\\\n",
      "   from C:\\Users\\MingZhu\\Anaconda3\\Lib\\site-packages\\~atplotlib\n",
      "  Moving to c:\\users\\mingzhu\\anaconda3\\lib\\site-packages\\mpl_toolkits\\axes_grid1\\\n",
      "   from C:\\Users\\MingZhu\\Anaconda3\\Lib\\site-packages\\mpl_toolkits\\~xes_grid1\n",
      "  Moving to c:\\users\\mingzhu\\anaconda3\\lib\\site-packages\\mpl_toolkits\\axes_grid\\\n",
      "   from C:\\Users\\MingZhu\\Anaconda3\\Lib\\site-packages\\mpl_toolkits\\~xes_grid\n",
      "  Moving to c:\\users\\mingzhu\\anaconda3\\lib\\site-packages\\mpl_toolkits\\axisartist\\\n",
      "   from C:\\Users\\MingZhu\\Anaconda3\\Lib\\site-packages\\mpl_toolkits\\~xisartist\n",
      "  Moving to c:\\users\\mingzhu\\anaconda3\\lib\\site-packages\\mpl_toolkits\\mplot3d\\\n",
      "   from C:\\Users\\MingZhu\\Anaconda3\\Lib\\site-packages\\mpl_toolkits\\~plot3d\n",
      "  Moving to c:\\users\\mingzhu\\anaconda3\\lib\\site-packages\\mpl_toolkits\\tests\\\n",
      "   from C:\\Users\\MingZhu\\Anaconda3\\Lib\\site-packages\\mpl_toolkits\\~ests\n",
      "  Moving to c:\\users\\mingzhu\\anaconda3\\lib\\site-packages\\pylab.py\n",
      "   from C:\\Users\\MingZhu\\AppData\\Local\\Temp\\pip-uninstall-zsbb4fjq\\pylab.py\n"
     ]
    },
    {
     "name": "stderr",
     "output_type": "stream",
     "text": [
      "\n",
      "  copying lib\\matplotlib\\image.py -> build\\lib.win-amd64-3.8\\matplotlib\n",
      "  copying lib\\matplotlib\\legend.py -> build\\lib.win-amd64-3.8\\matplotlib\n",
      "  copying lib\\matplotlib\\legend_handler.py -> build\\lib.win-amd64-3.8\\matplotlib\n",
      "  copying lib\\matplotlib\\lines.py -> build\\lib.win-amd64-3.8\\matplotlib\n",
      "  copying lib\\matplotlib\\markers.py -> build\\lib.win-amd64-3.8\\matplotlib\n",
      "  copying lib\\matplotlib\\mathtext.py -> build\\lib.win-amd64-3.8\\matplotlib\n",
      "  copying lib\\matplotlib\\mlab.py -> build\\lib.win-amd64-3.8\\matplotlib\n",
      "  copying lib\\matplotlib\\offsetbox.py -> build\\lib.win-amd64-3.8\\matplotlib\n",
      "  copying lib\\matplotlib\\patches.py -> build\\lib.win-amd64-3.8\\matplotlib\n",
      "  copying lib\\matplotlib\\path.py -> build\\lib.win-amd64-3.8\\matplotlib\n",
      "  copying lib\\matplotlib\\patheffects.py -> build\\lib.win-amd64-3.8\\matplotlib\n",
      "  copying lib\\matplotlib\\pylab.py -> build\\lib.win-amd64-3.8\\matplotlib\n",
      "  copying lib\\matplotlib\\pyplot.py -> build\\lib.win-amd64-3.8\\matplotlib\n",
      "  copying lib\\matplotlib\\quiver.py -> build\\lib.win-amd64-3.8\\matplotlib\n",
      "  copying lib\\matplotlib\\rcsetup.py -> build\\lib.win-amd64-3.8\\matplotlib\n",
      "  copying lib\\matplotlib\\sankey.py -> build\\lib.win-amd64-3.8\\matplotlib\n",
      "  copying lib\\matplotlib\\scale.py -> build\\lib.win-amd64-3.8\\matplotlib\n",
      "  copying lib\\matplotlib\\spines.py -> build\\lib.win-amd64-3.8\\matplotlib\n",
      "  copying lib\\matplotlib\\stackplot.py -> build\\lib.win-amd64-3.8\\matplotlib\n",
      "  copying lib\\matplotlib\\streamplot.py -> build\\lib.win-amd64-3.8\\matplotlib\n",
      "  copying lib\\matplotlib\\table.py -> build\\lib.win-amd64-3.8\\matplotlib\n",
      "  copying lib\\matplotlib\\texmanager.py -> build\\lib.win-amd64-3.8\\matplotlib\n",
      "  copying lib\\matplotlib\\text.py -> build\\lib.win-amd64-3.8\\matplotlib\n",
      "  copying lib\\matplotlib\\textpath.py -> build\\lib.win-amd64-3.8\\matplotlib\n",
      "  copying lib\\matplotlib\\ticker.py -> build\\lib.win-amd64-3.8\\matplotlib\n",
      "  copying lib\\matplotlib\\tight_bbox.py -> build\\lib.win-amd64-3.8\\matplotlib\n",
      "  copying lib\\matplotlib\\tight_layout.py -> build\\lib.win-amd64-3.8\\matplotlib\n",
      "  copying lib\\matplotlib\\transforms.py -> build\\lib.win-amd64-3.8\\matplotlib\n",
      "  copying lib\\matplotlib\\type1font.py -> build\\lib.win-amd64-3.8\\matplotlib\n",
      "  copying lib\\matplotlib\\units.py -> build\\lib.win-amd64-3.8\\matplotlib\n",
      "  copying lib\\matplotlib\\widgets.py -> build\\lib.win-amd64-3.8\\matplotlib\n",
      "  copying lib\\matplotlib\\_animation_data.py -> build\\lib.win-amd64-3.8\\matplotlib\n",
      "  copying lib\\matplotlib\\_cm.py -> build\\lib.win-amd64-3.8\\matplotlib\n",
      "  copying lib\\matplotlib\\_cm_listed.py -> build\\lib.win-amd64-3.8\\matplotlib\n",
      "  copying lib\\matplotlib\\_color_data.py -> build\\lib.win-amd64-3.8\\matplotlib\n",
      "  copying lib\\matplotlib\\_constrained_layout.py -> build\\lib.win-amd64-3.8\\matplotlib\n",
      "  copying lib\\matplotlib\\_layoutbox.py -> build\\lib.win-amd64-3.8\\matplotlib\n",
      "  copying lib\\matplotlib\\_mathtext_data.py -> build\\lib.win-amd64-3.8\\matplotlib\n",
      "  copying lib\\matplotlib\\_pylab_helpers.py -> build\\lib.win-amd64-3.8\\matplotlib\n",
      "  copying lib\\matplotlib\\_version.py -> build\\lib.win-amd64-3.8\\matplotlib\n",
      "  copying lib\\matplotlib\\__init__.py -> build\\lib.win-amd64-3.8\\matplotlib\n",
      "  creating build\\lib.win-amd64-3.8\\mpl_toolkits\n",
      "  copying lib\\mpl_toolkits\\__init__.py -> build\\lib.win-amd64-3.8\\mpl_toolkits\n",
      "  creating build\\lib.win-amd64-3.8\\matplotlib\\axes\n",
      "  copying lib\\matplotlib\\axes\\_axes.py -> build\\lib.win-amd64-3.8\\matplotlib\\axes\n",
      "  copying lib\\matplotlib\\axes\\_base.py -> build\\lib.win-amd64-3.8\\matplotlib\\axes\n",
      "  copying lib\\matplotlib\\axes\\_secondary_axes.py -> build\\lib.win-amd64-3.8\\matplotlib\\axes\n",
      "  copying lib\\matplotlib\\axes\\_subplots.py -> build\\lib.win-amd64-3.8\\matplotlib\\axes\n",
      "  copying lib\\matplotlib\\axes\\__init__.py -> build\\lib.win-amd64-3.8\\matplotlib\\axes\n",
      "  creating build\\lib.win-amd64-3.8\\matplotlib\\backends\n",
      "  copying lib\\matplotlib\\backends\\backend_agg.py -> build\\lib.win-amd64-3.8\\matplotlib\\backends\n",
      "  copying lib\\matplotlib\\backends\\backend_cairo.py -> build\\lib.win-amd64-3.8\\matplotlib\\backends\n",
      "  copying lib\\matplotlib\\backends\\backend_gtk3.py -> build\\lib.win-amd64-3.8\\matplotlib\\backends\n",
      "  copying lib\\matplotlib\\backends\\backend_gtk3agg.py -> build\\lib.win-amd64-3.8\\matplotlib\\backends\n",
      "  copying lib\\matplotlib\\backends\\backend_gtk3cairo.py -> build\\lib.win-amd64-3.8\\matplotlib\\backends\n",
      "  copying lib\\matplotlib\\backends\\backend_macosx.py -> build\\lib.win-amd64-3.8\\matplotlib\\backends\n",
      "  copying lib\\matplotlib\\backends\\backend_mixed.py -> build\\lib.win-amd64-3.8\\matplotlib\\backends\n",
      "  copying lib\\matplotlib\\backends\\backend_nbagg.py -> build\\lib.win-amd64-3.8\\matplotlib\\backends\n",
      "  copying lib\\matplotlib\\backends\\backend_pdf.py -> build\\lib.win-amd64-3.8\\matplotlib\\backends\n",
      "  copying lib\\matplotlib\\backends\\backend_pgf.py -> build\\lib.win-amd64-3.8\\matplotlib\\backends\n",
      "  copying lib\\matplotlib\\backends\\backend_ps.py -> build\\lib.win-amd64-3.8\\matplotlib\\backends\n",
      "  copying lib\\matplotlib\\backends\\backend_qt4.py -> build\\lib.win-amd64-3.8\\matplotlib\\backends\n",
      "  copying lib\\matplotlib\\backends\\backend_qt4agg.py -> build\\lib.win-amd64-3.8\\matplotlib\\backends\n",
      "  copying lib\\matplotlib\\backends\\backend_qt4cairo.py -> build\\lib.win-amd64-3.8\\matplotlib\\backends\n",
      "  copying lib\\matplotlib\\backends\\backend_qt5.py -> build\\lib.win-amd64-3.8\\matplotlib\\backends\n",
      "  copying lib\\matplotlib\\backends\\backend_qt5agg.py -> build\\lib.win-amd64-3.8\\matplotlib\\backends\n",
      "  copying lib\\matplotlib\\backends\\backend_qt5cairo.py -> build\\lib.win-amd64-3.8\\matplotlib\\backends\n",
      "  copying lib\\matplotlib\\backends\\backend_svg.py -> build\\lib.win-amd64-3.8\\matplotlib\\backends\n",
      "  copying lib\\matplotlib\\backends\\backend_template.py -> build\\lib.win-amd64-3.8\\matplotlib\\backends\n",
      "  copying lib\\matplotlib\\backends\\backend_tkagg.py -> build\\lib.win-amd64-3.8\\matplotlib\\backends\n",
      "  copying lib\\matplotlib\\backends\\backend_tkcairo.py -> build\\lib.win-amd64-3.8\\matplotlib\\backends\n",
      "  copying lib\\matplotlib\\backends\\backend_webagg.py -> build\\lib.win-amd64-3.8\\matplotlib\\backends\n",
      "  copying lib\\matplotlib\\backends\\backend_webagg_core.py -> build\\lib.win-amd64-3.8\\matplotlib\\backends\n",
      "  copying lib\\matplotlib\\backends\\backend_wx.py -> build\\lib.win-amd64-3.8\\matplotlib\\backends\n",
      "  copying lib\\matplotlib\\backends\\backend_wxagg.py -> build\\lib.win-amd64-3.8\\matplotlib\\backends\n",
      "  copying lib\\matplotlib\\backends\\backend_wxcairo.py -> build\\lib.win-amd64-3.8\\matplotlib\\backends\n",
      "  copying lib\\matplotlib\\backends\\qt_compat.py -> build\\lib.win-amd64-3.8\\matplotlib\\backends\n",
      "  copying lib\\matplotlib\\backends\\tkagg.py -> build\\lib.win-amd64-3.8\\matplotlib\\backends\n",
      "  copying lib\\matplotlib\\backends\\windowing.py -> build\\lib.win-amd64-3.8\\matplotlib\\backends\n",
      "  copying lib\\matplotlib\\backends\\wx_compat.py -> build\\lib.win-amd64-3.8\\matplotlib\\backends\n",
      "  copying lib\\matplotlib\\backends\\_backend_pdf_ps.py -> build\\lib.win-amd64-3.8\\matplotlib\\backends\n",
      "  copying lib\\matplotlib\\backends\\_backend_tk.py -> build\\lib.win-amd64-3.8\\matplotlib\\backends\n",
      "  copying lib\\matplotlib\\backends\\__init__.py -> build\\lib.win-amd64-3.8\\matplotlib\\backends\n",
      "  creating build\\lib.win-amd64-3.8\\matplotlib\\cbook\n",
      "  copying lib\\matplotlib\\cbook\\deprecation.py -> build\\lib.win-amd64-3.8\\matplotlib\\cbook\n",
      "  copying lib\\matplotlib\\cbook\\__init__.py -> build\\lib.win-amd64-3.8\\matplotlib\\cbook\n",
      "  creating build\\lib.win-amd64-3.8\\matplotlib\\compat\n",
      "  copying lib\\matplotlib\\compat\\subprocess.py -> build\\lib.win-amd64-3.8\\matplotlib\\compat\n",
      "  copying lib\\matplotlib\\compat\\__init__.py -> build\\lib.win-amd64-3.8\\matplotlib\\compat\n",
      "  creating build\\lib.win-amd64-3.8\\matplotlib\\projections\n",
      "  copying lib\\matplotlib\\projections\\geo.py -> build\\lib.win-amd64-3.8\\matplotlib\\projections\n",
      "  copying lib\\matplotlib\\projections\\polar.py -> build\\lib.win-amd64-3.8\\matplotlib\\projections\n",
      "  copying lib\\matplotlib\\projections\\__init__.py -> build\\lib.win-amd64-3.8\\matplotlib\\projections\n",
      "  creating build\\lib.win-amd64-3.8\\matplotlib\\sphinxext\n",
      "  copying lib\\matplotlib\\sphinxext\\mathmpl.py -> build\\lib.win-amd64-3.8\\matplotlib\\sphinxext\n",
      "  copying lib\\matplotlib\\sphinxext\\plot_directive.py -> build\\lib.win-amd64-3.8\\matplotlib\\sphinxext\n",
      "  copying lib\\matplotlib\\sphinxext\\__init__.py -> build\\lib.win-amd64-3.8\\matplotlib\\sphinxext\n",
      "  creating build\\lib.win-amd64-3.8\\matplotlib\\style\n",
      "  copying lib\\matplotlib\\style\\core.py -> build\\lib.win-amd64-3.8\\matplotlib\\style\n",
      "  copying lib\\matplotlib\\style\\__init__.py -> build\\lib.win-amd64-3.8\\matplotlib\\style\n",
      "  creating build\\lib.win-amd64-3.8\\matplotlib\\testing\n",
      "  copying lib\\matplotlib\\testing\\compare.py -> build\\lib.win-amd64-3.8\\matplotlib\\testing\n",
      "  copying lib\\matplotlib\\testing\\conftest.py -> build\\lib.win-amd64-3.8\\matplotlib\\testing\n",
      "  copying lib\\matplotlib\\testing\\decorators.py -> build\\lib.win-amd64-3.8\\matplotlib\\testing\n",
      "  copying lib\\matplotlib\\testing\\determinism.py -> build\\lib.win-amd64-3.8\\matplotlib\\testing\n",
      "  copying lib\\matplotlib\\testing\\disable_internet.py -> build\\lib.win-amd64-3.8\\matplotlib\\testing\n",
      "  copying lib\\matplotlib\\testing\\exceptions.py -> build\\lib.win-amd64-3.8\\matplotlib\\testing\n",
      "  copying lib\\matplotlib\\testing\\__init__.py -> build\\lib.win-amd64-3.8\\matplotlib\\testing\n",
      "  creating build\\lib.win-amd64-3.8\\matplotlib\\tri\n",
      "  copying lib\\matplotlib\\tri\\triangulation.py -> build\\lib.win-amd64-3.8\\matplotlib\\tri\n",
      "  copying lib\\matplotlib\\tri\\tricontour.py -> build\\lib.win-amd64-3.8\\matplotlib\\tri\n",
      "  copying lib\\matplotlib\\tri\\trifinder.py -> build\\lib.win-amd64-3.8\\matplotlib\\tri\n",
      "  copying lib\\matplotlib\\tri\\triinterpolate.py -> build\\lib.win-amd64-3.8\\matplotlib\\tri\n",
      "  copying lib\\matplotlib\\tri\\tripcolor.py -> build\\lib.win-amd64-3.8\\matplotlib\\tri\n",
      "  copying lib\\matplotlib\\tri\\triplot.py -> build\\lib.win-amd64-3.8\\matplotlib\\tri\n",
      "  copying lib\\matplotlib\\tri\\trirefine.py -> build\\lib.win-amd64-3.8\\matplotlib\\tri\n",
      "  copying lib\\matplotlib\\tri\\tritools.py -> build\\lib.win-amd64-3.8\\matplotlib\\tri\n",
      "  copying lib\\matplotlib\\tri\\__init__.py -> build\\lib.win-amd64-3.8\\matplotlib\\tri\n",
      "  creating build\\lib.win-amd64-3.8\\matplotlib\\backends\\qt_editor\n",
      "  copying lib\\matplotlib\\backends\\qt_editor\\figureoptions.py -> build\\lib.win-amd64-3.8\\matplotlib\\backends\\qt_editor\n",
      "  copying lib\\matplotlib\\backends\\qt_editor\\formlayout.py -> build\\lib.win-amd64-3.8\\matplotlib\\backends\\qt_editor\n",
      "  copying lib\\matplotlib\\backends\\qt_editor\\formsubplottool.py -> build\\lib.win-amd64-3.8\\matplotlib\\backends\\qt_editor\n",
      "  copying lib\\matplotlib\\backends\\qt_editor\\_formlayout.py -> build\\lib.win-amd64-3.8\\matplotlib\\backends\\qt_editor\n",
      "  copying lib\\matplotlib\\backends\\qt_editor\\__init__.py -> build\\lib.win-amd64-3.8\\matplotlib\\backends\\qt_editor\n",
      "  creating build\\lib.win-amd64-3.8\\matplotlib\\testing\\jpl_units\n",
      "  copying lib\\matplotlib\\testing\\jpl_units\\Duration.py -> build\\lib.win-amd64-3.8\\matplotlib\\testing\\jpl_units\n",
      "  copying lib\\matplotlib\\testing\\jpl_units\\Epoch.py -> build\\lib.win-amd64-3.8\\matplotlib\\testing\\jpl_units\n",
      "  copying lib\\matplotlib\\testing\\jpl_units\\EpochConverter.py -> build\\lib.win-amd64-3.8\\matplotlib\\testing\\jpl_units\n",
      "  copying lib\\matplotlib\\testing\\jpl_units\\StrConverter.py -> build\\lib.win-amd64-3.8\\matplotlib\\testing\\jpl_units\n",
      "  copying lib\\matplotlib\\testing\\jpl_units\\UnitDbl.py -> build\\lib.win-amd64-3.8\\matplotlib\\testing\\jpl_units\n",
      "  copying lib\\matplotlib\\testing\\jpl_units\\UnitDblConverter.py -> build\\lib.win-amd64-3.8\\matplotlib\\testing\\jpl_units\n",
      "  copying lib\\matplotlib\\testing\\jpl_units\\UnitDblFormatter.py -> build\\lib.win-amd64-3.8\\matplotlib\\testing\\jpl_units\n",
      "  copying lib\\matplotlib\\testing\\jpl_units\\__init__.py -> build\\lib.win-amd64-3.8\\matplotlib\\testing\\jpl_units\n",
      "  creating build\\lib.win-amd64-3.8\\mpl_toolkits\\axes_grid\n",
      "  copying lib\\mpl_toolkits\\axes_grid\\anchored_artists.py -> build\\lib.win-amd64-3.8\\mpl_toolkits\\axes_grid"
     ]
    }
   ],
   "source": [
    "! pip install pdpbox"
   ]
  },
  {
   "cell_type": "markdown",
   "metadata": {},
   "source": [
    "While we encourage you to read the documentation for the package (and reading package documentation in general is a good habit to develop), the authors of the package have also written an excellent blog post on how to use it, showing examples on different algorithms from scikit-learn (the Random Forests example is towards the end of the blog post): https://briangriner.github.io/Partial_Dependence_Plots_presentation-BrianGriner-PrincetonPublicLibrary-4.14.18-updated-4.22.18.html"
   ]
  },
  {
   "cell_type": "markdown",
   "metadata": {},
   "source": [
    "So, armed with this new knowledge, feel free to pick a few features, and make a couple of Partial Dependence Plots of your own!"
   ]
  },
  {
   "cell_type": "code",
   "execution_count": null,
   "metadata": {},
   "outputs": [],
   "source": [
    "# Your code here!"
   ]
  },
  {
   "cell_type": "markdown",
   "metadata": {},
   "source": [
    "## (Optional) Advanced Boosting-Based Algorithms"
   ]
  },
  {
   "cell_type": "markdown",
   "metadata": {},
   "source": [
    "As explained in the video lectures, the next generation of algorithms after Random Forests (that use Bagging, a.k.a. Bootstrap Aggregation) were developed using Boosting, and the first one of these were Gradient Boosted Machines, which are implemented in scikit-learn (http://scikit-learn.org/stable/modules/ensemble.html#gradient-tree-boosting)."
   ]
  },
  {
   "cell_type": "markdown",
   "metadata": {},
   "source": [
    "Still, in recent years, a number of variations on GBMs have been developed by different research amd industry groups, all of them bringing improvements, both in speed, accuracy and functionality to the original Gradient Boosting algorithms.\n",
    "\n",
    "In no order of preference, these are:\n",
    "1. **XGBoost**: https://xgboost.readthedocs.io/en/latest/\n",
    "2. **CatBoost**: https://tech.yandex.com/catboost/\n",
    "3. **LightGBM**: https://lightgbm.readthedocs.io/en/latest/"
   ]
  },
  {
   "cell_type": "markdown",
   "metadata": {},
   "source": [
    "If you're using the Anaconda distribution, these are all very easy to install:"
   ]
  },
  {
   "cell_type": "code",
   "execution_count": 14,
   "metadata": {},
   "outputs": [
    {
     "name": "stdout",
     "output_type": "stream",
     "text": [
      "^C\n"
     ]
    }
   ],
   "source": [
    "! conda install -c anaconda py-xgboost"
   ]
  },
  {
   "cell_type": "code",
   "execution_count": 15,
   "metadata": {},
   "outputs": [
    {
     "name": "stdout",
     "output_type": "stream",
     "text": [
      "^C\n"
     ]
    }
   ],
   "source": [
    "! conda install -c conda-forge catboost"
   ]
  },
  {
   "cell_type": "code",
   "execution_count": 16,
   "metadata": {},
   "outputs": [
    {
     "name": "stdout",
     "output_type": "stream",
     "text": [
      "^C\n"
     ]
    }
   ],
   "source": [
    "! conda install -c conda-forge lightgbm"
   ]
  },
  {
   "cell_type": "markdown",
   "metadata": {},
   "source": [
    "Your task in this optional section of the mini project is to read the documentation of these three libraries, and apply all of them to the \"German Credit\" dataset, just like you did in the case of Decision Trees and Random Forests."
   ]
  },
  {
   "cell_type": "markdown",
   "metadata": {},
   "source": [
    "The final deliverable of this section should be a table (can be a pandas DataFrame) which shows the accuracy of all the five algorthms taught in this mini project in one place."
   ]
  },
  {
   "cell_type": "markdown",
   "metadata": {},
   "source": [
    "Happy modeling! :)"
   ]
  }
 ],
 "metadata": {
  "kernelspec": {
   "display_name": "Python 3",
   "language": "python",
   "name": "python3"
  },
  "language_info": {
   "codemirror_mode": {
    "name": "ipython",
    "version": 3
   },
   "file_extension": ".py",
   "mimetype": "text/x-python",
   "name": "python",
   "nbconvert_exporter": "python",
   "pygments_lexer": "ipython3",
   "version": "3.8.5"
  }
 },
 "nbformat": 4,
 "nbformat_minor": 2
}
